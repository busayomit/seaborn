{
  "nbformat": 4,
  "nbformat_minor": 0,
  "metadata": {
    "colab": {
      "provenance": []
    },
    "kernelspec": {
      "name": "python3",
      "display_name": "Python 3"
    },
    "language_info": {
      "name": "python"
    }
  },
  "cells": [
    {
      "cell_type": "code",
      "execution_count": 1,
      "metadata": {
        "id": "DMiaMvTcbBus"
      },
      "outputs": [],
      "source": [
        "import numpy as np\n",
        "import pandas as pd\n",
        "import seaborn as sns\n",
        "import matplotlib.pyplot as plt\n",
        "from google.colab import drive\n",
        "import os"
      ]
    },
    {
      "cell_type": "markdown",
      "source": [
        "# INGESTION"
      ],
      "metadata": {
        "id": "tPh-5hFZKBJA"
      }
    },
    {
      "cell_type": "code",
      "source": [
        "drive.mount('/content/drive/', force_remount=True)\n",
        "\n",
        "os.getcwd()"
      ],
      "metadata": {
        "colab": {
          "base_uri": "https://localhost:8080/",
          "height": 53
        },
        "id": "WE1KfjKChu8-",
        "outputId": "c86245ae-b792-4621-b008-d83c75c4492f"
      },
      "execution_count": 4,
      "outputs": [
        {
          "output_type": "stream",
          "name": "stdout",
          "text": [
            "Mounted at /content/drive/\n"
          ]
        },
        {
          "output_type": "execute_result",
          "data": {
            "text/plain": [
              "'/content'"
            ],
            "application/vnd.google.colaboratory.intrinsic+json": {
              "type": "string"
            }
          },
          "metadata": {},
          "execution_count": 4
        }
      ]
    },
    {
      "cell_type": "code",
      "source": [
        "path1 = '/content/drive/MyDrive/Hamoye/e-commerce_dataset/Amazon_Sale_Report.csv'\n",
        "if os.path.exists(path1):\n",
        "    print('Path exists!')\n",
        "else:\n",
        "    print(\"File not found!\")"
      ],
      "metadata": {
        "colab": {
          "base_uri": "https://localhost:8080/"
        },
        "id": "shpmjvpqfBIr",
        "outputId": "76ecbafd-5963-45cc-d584-0bc2270d7296"
      },
      "execution_count": 5,
      "outputs": [
        {
          "output_type": "stream",
          "name": "stdout",
          "text": [
            "Path exists!\n"
          ]
        }
      ]
    },
    {
      "cell_type": "code",
      "source": [
        "df=pd.read_csv(path1)\n"
      ],
      "metadata": {
        "id": "JIj9Fu7LfloT",
        "colab": {
          "base_uri": "https://localhost:8080/"
        },
        "outputId": "752e329f-e0f3-4792-9101-fb6b9a47fa23"
      },
      "execution_count": 6,
      "outputs": [
        {
          "output_type": "stream",
          "name": "stderr",
          "text": [
            "<ipython-input-6-b62d5051e0ee>:1: DtypeWarning: Columns (23) have mixed types. Specify dtype option on import or set low_memory=False.\n",
            "  df=pd.read_csv(path1)\n"
          ]
        }
      ]
    },
    {
      "cell_type": "markdown",
      "source": [
        "# EXPLORATION"
      ],
      "metadata": {
        "id": "1to6_BcGKP7a"
      }
    },
    {
      "cell_type": "code",
      "source": [
        "print(df.head())"
      ],
      "metadata": {
        "colab": {
          "base_uri": "https://localhost:8080/"
        },
        "id": "mmFYVpa_oVAE",
        "outputId": "fb83f668-aa0f-4db7-c7ee-97cbf9b6ed6b"
      },
      "execution_count": 7,
      "outputs": [
        {
          "output_type": "stream",
          "name": "stdout",
          "text": [
            "   index             Order ID      Date                        Status  \\\n",
            "0      0  405-8078784-5731545  04-30-22                     Cancelled   \n",
            "1      1  171-9198151-1101146  04-30-22  Shipped - Delivered to Buyer   \n",
            "2      2  404-0687676-7273146  04-30-22                       Shipped   \n",
            "3      3  403-9615377-8133951  04-30-22                     Cancelled   \n",
            "4      4  407-1069790-7240320  04-30-22                       Shipped   \n",
            "\n",
            "  Fulfilment Sales Channel  ship-service-level    Style              SKU  \\\n",
            "0   Merchant      Amazon.in           Standard   SET389   SET389-KR-NP-S   \n",
            "1   Merchant      Amazon.in           Standard  JNE3781  JNE3781-KR-XXXL   \n",
            "2     Amazon      Amazon.in          Expedited  JNE3371    JNE3371-KR-XL   \n",
            "3   Merchant      Amazon.in           Standard    J0341       J0341-DR-L   \n",
            "4     Amazon      Amazon.in          Expedited  JNE3671  JNE3671-TU-XXXL   \n",
            "\n",
            "        Category  ... currency  Amount    ship-city   ship-state  \\\n",
            "0            Set  ...      INR  647.62       MUMBAI  MAHARASHTRA   \n",
            "1          kurta  ...      INR  406.00    BENGALURU    KARNATAKA   \n",
            "2          kurta  ...      INR  329.00  NAVI MUMBAI  MAHARASHTRA   \n",
            "3  Western Dress  ...      INR  753.33   PUDUCHERRY   PUDUCHERRY   \n",
            "4            Top  ...      INR  574.00      CHENNAI   TAMIL NADU   \n",
            "\n",
            "  ship-postal-code  ship-country  \\\n",
            "0         400081.0            IN   \n",
            "1         560085.0            IN   \n",
            "2         410210.0            IN   \n",
            "3         605008.0            IN   \n",
            "4         600073.0            IN   \n",
            "\n",
            "                                       promotion-ids    B2B  fulfilled-by  \\\n",
            "0                                                NaN  False     Easy Ship   \n",
            "1  Amazon PLCC Free-Financing Universal Merchant ...  False     Easy Ship   \n",
            "2       IN Core Free Shipping 2015/04/08 23-48-5-108   True           NaN   \n",
            "3                                                NaN  False     Easy Ship   \n",
            "4                                                NaN  False           NaN   \n",
            "\n",
            "  Unnamed: 22  \n",
            "0         NaN  \n",
            "1         NaN  \n",
            "2         NaN  \n",
            "3         NaN  \n",
            "4         NaN  \n",
            "\n",
            "[5 rows x 24 columns]\n"
          ]
        }
      ]
    },
    {
      "cell_type": "code",
      "source": [
        "df.shape"
      ],
      "metadata": {
        "colab": {
          "base_uri": "https://localhost:8080/"
        },
        "id": "0ihNyotOoZ4t",
        "outputId": "84ace1b4-14dc-4dfe-ada3-c83d64050a25"
      },
      "execution_count": 8,
      "outputs": [
        {
          "output_type": "execute_result",
          "data": {
            "text/plain": [
              "(128975, 24)"
            ]
          },
          "metadata": {},
          "execution_count": 8
        }
      ]
    },
    {
      "cell_type": "code",
      "source": [
        "print(df.columns)"
      ],
      "metadata": {
        "colab": {
          "base_uri": "https://localhost:8080/"
        },
        "id": "U2WyjqgEo83z",
        "outputId": "540974c1-eddc-4d1a-cbdc-c53db2dd8476"
      },
      "execution_count": 9,
      "outputs": [
        {
          "output_type": "stream",
          "name": "stdout",
          "text": [
            "Index(['index', 'Order ID', 'Date', 'Status', 'Fulfilment', 'Sales Channel ',\n",
            "       'ship-service-level', 'Style', 'SKU', 'Category', 'Size', 'ASIN',\n",
            "       'Courier Status', 'Qty', 'currency', 'Amount', 'ship-city',\n",
            "       'ship-state', 'ship-postal-code', 'ship-country', 'promotion-ids',\n",
            "       'B2B', 'fulfilled-by', 'Unnamed: 22'],\n",
            "      dtype='object')\n"
          ]
        }
      ]
    },
    {
      "cell_type": "code",
      "source": [
        "df.sample(5)"
      ],
      "metadata": {
        "colab": {
          "base_uri": "https://localhost:8080/",
          "height": 612
        },
        "id": "PqhgP0ndpGPj",
        "outputId": "6416e12f-bd1e-47ee-f9de-0a8615f4126c"
      },
      "execution_count": 10,
      "outputs": [
        {
          "output_type": "execute_result",
          "data": {
            "text/plain": [
              "       index             Order ID      Date                        Status  \\\n",
              "8800    8800  408-5388464-8904361  04-25-22                       Shipped   \n",
              "77189  77189  407-2021471-2162762  05-09-22  Shipped - Delivered to Buyer   \n",
              "85591  85591  408-4116542-2873921  05-03-22                       Shipped   \n",
              "26063  26063  408-7758491-3381130  04-15-22                       Shipped   \n",
              "50560  50560  402-6344366-8005136  05-30-22                       Shipped   \n",
              "\n",
              "      Fulfilment Sales Channel  ship-service-level    Style             SKU  \\\n",
              "8800      Amazon      Amazon.in          Expedited  JNE3641  JNE3641-TP-N-S   \n",
              "77189   Merchant      Amazon.in           Standard  JNE3894  JNE3894-TP-XXL   \n",
              "85591     Amazon      Amazon.in          Expedited  JNE3784    JNE3784-KR-M   \n",
              "26063     Amazon      Amazon.in          Expedited  JNE3751    JNE3751-KR-L   \n",
              "50560     Amazon      Amazon.in          Expedited    J0244     J0244-SKD-S   \n",
              "\n",
              "      Category  ... currency  Amount    ship-city  ship-state  \\\n",
              "8800       Top  ...      INR   359.0  SHOLAVANDAN  TAMIL NADU   \n",
              "77189      Top  ...      INR   749.0       MARGAO         GOA   \n",
              "85591    kurta  ...      INR   458.0    HYDERABAD   TELANGANA   \n",
              "26063    kurta  ...      INR   368.0    BENGALURU   KARNATAKA   \n",
              "50560      Set  ...      INR  1238.0      CHENNAI  TAMIL NADU   \n",
              "\n",
              "      ship-postal-code  ship-country  \\\n",
              "8800          625214.0            IN   \n",
              "77189         403601.0            IN   \n",
              "85591         500008.0            IN   \n",
              "26063         560037.0            IN   \n",
              "50560         600097.0            IN   \n",
              "\n",
              "                                           promotion-ids    B2B  fulfilled-by  \\\n",
              "8800        IN Core Free Shipping 2015/04/08 23-48-5-108  False           NaN   \n",
              "77189  Amazon PLCC Free-Financing Universal Merchant ...  False     Easy Ship   \n",
              "85591       IN Core Free Shipping 2015/04/08 23-48-5-108  False           NaN   \n",
              "26063                                                NaN  False           NaN   \n",
              "50560                                                NaN  False           NaN   \n",
              "\n",
              "      Unnamed: 22  \n",
              "8800          NaN  \n",
              "77189       False  \n",
              "85591       False  \n",
              "26063         NaN  \n",
              "50560       False  \n",
              "\n",
              "[5 rows x 24 columns]"
            ],
            "text/html": [
              "\n",
              "  <div id=\"df-ab228b81-59b0-4629-b428-61fe13380460\">\n",
              "    <div class=\"colab-df-container\">\n",
              "      <div>\n",
              "<style scoped>\n",
              "    .dataframe tbody tr th:only-of-type {\n",
              "        vertical-align: middle;\n",
              "    }\n",
              "\n",
              "    .dataframe tbody tr th {\n",
              "        vertical-align: top;\n",
              "    }\n",
              "\n",
              "    .dataframe thead th {\n",
              "        text-align: right;\n",
              "    }\n",
              "</style>\n",
              "<table border=\"1\" class=\"dataframe\">\n",
              "  <thead>\n",
              "    <tr style=\"text-align: right;\">\n",
              "      <th></th>\n",
              "      <th>index</th>\n",
              "      <th>Order ID</th>\n",
              "      <th>Date</th>\n",
              "      <th>Status</th>\n",
              "      <th>Fulfilment</th>\n",
              "      <th>Sales Channel</th>\n",
              "      <th>ship-service-level</th>\n",
              "      <th>Style</th>\n",
              "      <th>SKU</th>\n",
              "      <th>Category</th>\n",
              "      <th>...</th>\n",
              "      <th>currency</th>\n",
              "      <th>Amount</th>\n",
              "      <th>ship-city</th>\n",
              "      <th>ship-state</th>\n",
              "      <th>ship-postal-code</th>\n",
              "      <th>ship-country</th>\n",
              "      <th>promotion-ids</th>\n",
              "      <th>B2B</th>\n",
              "      <th>fulfilled-by</th>\n",
              "      <th>Unnamed: 22</th>\n",
              "    </tr>\n",
              "  </thead>\n",
              "  <tbody>\n",
              "    <tr>\n",
              "      <th>8800</th>\n",
              "      <td>8800</td>\n",
              "      <td>408-5388464-8904361</td>\n",
              "      <td>04-25-22</td>\n",
              "      <td>Shipped</td>\n",
              "      <td>Amazon</td>\n",
              "      <td>Amazon.in</td>\n",
              "      <td>Expedited</td>\n",
              "      <td>JNE3641</td>\n",
              "      <td>JNE3641-TP-N-S</td>\n",
              "      <td>Top</td>\n",
              "      <td>...</td>\n",
              "      <td>INR</td>\n",
              "      <td>359.0</td>\n",
              "      <td>SHOLAVANDAN</td>\n",
              "      <td>TAMIL NADU</td>\n",
              "      <td>625214.0</td>\n",
              "      <td>IN</td>\n",
              "      <td>IN Core Free Shipping 2015/04/08 23-48-5-108</td>\n",
              "      <td>False</td>\n",
              "      <td>NaN</td>\n",
              "      <td>NaN</td>\n",
              "    </tr>\n",
              "    <tr>\n",
              "      <th>77189</th>\n",
              "      <td>77189</td>\n",
              "      <td>407-2021471-2162762</td>\n",
              "      <td>05-09-22</td>\n",
              "      <td>Shipped - Delivered to Buyer</td>\n",
              "      <td>Merchant</td>\n",
              "      <td>Amazon.in</td>\n",
              "      <td>Standard</td>\n",
              "      <td>JNE3894</td>\n",
              "      <td>JNE3894-TP-XXL</td>\n",
              "      <td>Top</td>\n",
              "      <td>...</td>\n",
              "      <td>INR</td>\n",
              "      <td>749.0</td>\n",
              "      <td>MARGAO</td>\n",
              "      <td>GOA</td>\n",
              "      <td>403601.0</td>\n",
              "      <td>IN</td>\n",
              "      <td>Amazon PLCC Free-Financing Universal Merchant ...</td>\n",
              "      <td>False</td>\n",
              "      <td>Easy Ship</td>\n",
              "      <td>False</td>\n",
              "    </tr>\n",
              "    <tr>\n",
              "      <th>85591</th>\n",
              "      <td>85591</td>\n",
              "      <td>408-4116542-2873921</td>\n",
              "      <td>05-03-22</td>\n",
              "      <td>Shipped</td>\n",
              "      <td>Amazon</td>\n",
              "      <td>Amazon.in</td>\n",
              "      <td>Expedited</td>\n",
              "      <td>JNE3784</td>\n",
              "      <td>JNE3784-KR-M</td>\n",
              "      <td>kurta</td>\n",
              "      <td>...</td>\n",
              "      <td>INR</td>\n",
              "      <td>458.0</td>\n",
              "      <td>HYDERABAD</td>\n",
              "      <td>TELANGANA</td>\n",
              "      <td>500008.0</td>\n",
              "      <td>IN</td>\n",
              "      <td>IN Core Free Shipping 2015/04/08 23-48-5-108</td>\n",
              "      <td>False</td>\n",
              "      <td>NaN</td>\n",
              "      <td>False</td>\n",
              "    </tr>\n",
              "    <tr>\n",
              "      <th>26063</th>\n",
              "      <td>26063</td>\n",
              "      <td>408-7758491-3381130</td>\n",
              "      <td>04-15-22</td>\n",
              "      <td>Shipped</td>\n",
              "      <td>Amazon</td>\n",
              "      <td>Amazon.in</td>\n",
              "      <td>Expedited</td>\n",
              "      <td>JNE3751</td>\n",
              "      <td>JNE3751-KR-L</td>\n",
              "      <td>kurta</td>\n",
              "      <td>...</td>\n",
              "      <td>INR</td>\n",
              "      <td>368.0</td>\n",
              "      <td>BENGALURU</td>\n",
              "      <td>KARNATAKA</td>\n",
              "      <td>560037.0</td>\n",
              "      <td>IN</td>\n",
              "      <td>NaN</td>\n",
              "      <td>False</td>\n",
              "      <td>NaN</td>\n",
              "      <td>NaN</td>\n",
              "    </tr>\n",
              "    <tr>\n",
              "      <th>50560</th>\n",
              "      <td>50560</td>\n",
              "      <td>402-6344366-8005136</td>\n",
              "      <td>05-30-22</td>\n",
              "      <td>Shipped</td>\n",
              "      <td>Amazon</td>\n",
              "      <td>Amazon.in</td>\n",
              "      <td>Expedited</td>\n",
              "      <td>J0244</td>\n",
              "      <td>J0244-SKD-S</td>\n",
              "      <td>Set</td>\n",
              "      <td>...</td>\n",
              "      <td>INR</td>\n",
              "      <td>1238.0</td>\n",
              "      <td>CHENNAI</td>\n",
              "      <td>TAMIL NADU</td>\n",
              "      <td>600097.0</td>\n",
              "      <td>IN</td>\n",
              "      <td>NaN</td>\n",
              "      <td>False</td>\n",
              "      <td>NaN</td>\n",
              "      <td>False</td>\n",
              "    </tr>\n",
              "  </tbody>\n",
              "</table>\n",
              "<p>5 rows × 24 columns</p>\n",
              "</div>\n",
              "      <button class=\"colab-df-convert\" onclick=\"convertToInteractive('df-ab228b81-59b0-4629-b428-61fe13380460')\"\n",
              "              title=\"Convert this dataframe to an interactive table.\"\n",
              "              style=\"display:none;\">\n",
              "        \n",
              "  <svg xmlns=\"http://www.w3.org/2000/svg\" height=\"24px\"viewBox=\"0 0 24 24\"\n",
              "       width=\"24px\">\n",
              "    <path d=\"M0 0h24v24H0V0z\" fill=\"none\"/>\n",
              "    <path d=\"M18.56 5.44l.94 2.06.94-2.06 2.06-.94-2.06-.94-.94-2.06-.94 2.06-2.06.94zm-11 1L8.5 8.5l.94-2.06 2.06-.94-2.06-.94L8.5 2.5l-.94 2.06-2.06.94zm10 10l.94 2.06.94-2.06 2.06-.94-2.06-.94-.94-2.06-.94 2.06-2.06.94z\"/><path d=\"M17.41 7.96l-1.37-1.37c-.4-.4-.92-.59-1.43-.59-.52 0-1.04.2-1.43.59L10.3 9.45l-7.72 7.72c-.78.78-.78 2.05 0 2.83L4 21.41c.39.39.9.59 1.41.59.51 0 1.02-.2 1.41-.59l7.78-7.78 2.81-2.81c.8-.78.8-2.07 0-2.86zM5.41 20L4 18.59l7.72-7.72 1.47 1.35L5.41 20z\"/>\n",
              "  </svg>\n",
              "      </button>\n",
              "      \n",
              "  <style>\n",
              "    .colab-df-container {\n",
              "      display:flex;\n",
              "      flex-wrap:wrap;\n",
              "      gap: 12px;\n",
              "    }\n",
              "\n",
              "    .colab-df-convert {\n",
              "      background-color: #E8F0FE;\n",
              "      border: none;\n",
              "      border-radius: 50%;\n",
              "      cursor: pointer;\n",
              "      display: none;\n",
              "      fill: #1967D2;\n",
              "      height: 32px;\n",
              "      padding: 0 0 0 0;\n",
              "      width: 32px;\n",
              "    }\n",
              "\n",
              "    .colab-df-convert:hover {\n",
              "      background-color: #E2EBFA;\n",
              "      box-shadow: 0px 1px 2px rgba(60, 64, 67, 0.3), 0px 1px 3px 1px rgba(60, 64, 67, 0.15);\n",
              "      fill: #174EA6;\n",
              "    }\n",
              "\n",
              "    [theme=dark] .colab-df-convert {\n",
              "      background-color: #3B4455;\n",
              "      fill: #D2E3FC;\n",
              "    }\n",
              "\n",
              "    [theme=dark] .colab-df-convert:hover {\n",
              "      background-color: #434B5C;\n",
              "      box-shadow: 0px 1px 3px 1px rgba(0, 0, 0, 0.15);\n",
              "      filter: drop-shadow(0px 1px 2px rgba(0, 0, 0, 0.3));\n",
              "      fill: #FFFFFF;\n",
              "    }\n",
              "  </style>\n",
              "\n",
              "      <script>\n",
              "        const buttonEl =\n",
              "          document.querySelector('#df-ab228b81-59b0-4629-b428-61fe13380460 button.colab-df-convert');\n",
              "        buttonEl.style.display =\n",
              "          google.colab.kernel.accessAllowed ? 'block' : 'none';\n",
              "\n",
              "        async function convertToInteractive(key) {\n",
              "          const element = document.querySelector('#df-ab228b81-59b0-4629-b428-61fe13380460');\n",
              "          const dataTable =\n",
              "            await google.colab.kernel.invokeFunction('convertToInteractive',\n",
              "                                                     [key], {});\n",
              "          if (!dataTable) return;\n",
              "\n",
              "          const docLinkHtml = 'Like what you see? Visit the ' +\n",
              "            '<a target=\"_blank\" href=https://colab.research.google.com/notebooks/data_table.ipynb>data table notebook</a>'\n",
              "            + ' to learn more about interactive tables.';\n",
              "          element.innerHTML = '';\n",
              "          dataTable['output_type'] = 'display_data';\n",
              "          await google.colab.output.renderOutput(dataTable, element);\n",
              "          const docLink = document.createElement('div');\n",
              "          docLink.innerHTML = docLinkHtml;\n",
              "          element.appendChild(docLink);\n",
              "        }\n",
              "      </script>\n",
              "    </div>\n",
              "  </div>\n",
              "  "
            ]
          },
          "metadata": {},
          "execution_count": 10
        }
      ]
    },
    {
      "cell_type": "code",
      "source": [
        "import inspect\n",
        "inspect.getsource(os.path.exists)"
      ],
      "metadata": {
        "id": "sfrGmwjfpVwD",
        "colab": {
          "base_uri": "https://localhost:8080/",
          "height": 53
        },
        "outputId": "9ff4ce20-e3e5-48b9-9862-3c0d91693221"
      },
      "execution_count": 11,
      "outputs": [
        {
          "output_type": "execute_result",
          "data": {
            "text/plain": [
              "'def exists(path):\\n    \"\"\"Test whether a path exists.  Returns False for broken symbolic links\"\"\"\\n    try:\\n        os.stat(path)\\n    except (OSError, ValueError):\\n        return False\\n    return True\\n'"
            ],
            "application/vnd.google.colaboratory.intrinsic+json": {
              "type": "string"
            }
          },
          "metadata": {},
          "execution_count": 11
        }
      ]
    },
    {
      "cell_type": "code",
      "source": [
        "df.info()"
      ],
      "metadata": {
        "colab": {
          "base_uri": "https://localhost:8080/"
        },
        "id": "DFgrPqh9sYmF",
        "outputId": "74e70675-bd00-4e50-e191-b62baaad2b71"
      },
      "execution_count": 12,
      "outputs": [
        {
          "output_type": "stream",
          "name": "stdout",
          "text": [
            "<class 'pandas.core.frame.DataFrame'>\n",
            "RangeIndex: 128975 entries, 0 to 128974\n",
            "Data columns (total 24 columns):\n",
            " #   Column              Non-Null Count   Dtype  \n",
            "---  ------              --------------   -----  \n",
            " 0   index               128975 non-null  int64  \n",
            " 1   Order ID            128975 non-null  object \n",
            " 2   Date                128975 non-null  object \n",
            " 3   Status              128975 non-null  object \n",
            " 4   Fulfilment          128975 non-null  object \n",
            " 5   Sales Channel       128975 non-null  object \n",
            " 6   ship-service-level  128975 non-null  object \n",
            " 7   Style               128975 non-null  object \n",
            " 8   SKU                 128975 non-null  object \n",
            " 9   Category            128975 non-null  object \n",
            " 10  Size                128975 non-null  object \n",
            " 11  ASIN                128975 non-null  object \n",
            " 12  Courier Status      122103 non-null  object \n",
            " 13  Qty                 128975 non-null  int64  \n",
            " 14  currency            121180 non-null  object \n",
            " 15  Amount              121180 non-null  float64\n",
            " 16  ship-city           128942 non-null  object \n",
            " 17  ship-state          128942 non-null  object \n",
            " 18  ship-postal-code    128942 non-null  float64\n",
            " 19  ship-country        128942 non-null  object \n",
            " 20  promotion-ids       79822 non-null   object \n",
            " 21  B2B                 128975 non-null  bool   \n",
            " 22  fulfilled-by        39277 non-null   object \n",
            " 23  Unnamed: 22         79925 non-null   object \n",
            "dtypes: bool(1), float64(2), int64(2), object(19)\n",
            "memory usage: 22.8+ MB\n"
          ]
        }
      ]
    },
    {
      "cell_type": "code",
      "source": [
        "df.isna().sum()\n"
      ],
      "metadata": {
        "colab": {
          "base_uri": "https://localhost:8080/"
        },
        "id": "0FyJwqjIu0uT",
        "outputId": "ad7424b4-fbb3-4b28-9ac4-0e6b3c0e4913"
      },
      "execution_count": 13,
      "outputs": [
        {
          "output_type": "execute_result",
          "data": {
            "text/plain": [
              "index                     0\n",
              "Order ID                  0\n",
              "Date                      0\n",
              "Status                    0\n",
              "Fulfilment                0\n",
              "Sales Channel             0\n",
              "ship-service-level        0\n",
              "Style                     0\n",
              "SKU                       0\n",
              "Category                  0\n",
              "Size                      0\n",
              "ASIN                      0\n",
              "Courier Status         6872\n",
              "Qty                       0\n",
              "currency               7795\n",
              "Amount                 7795\n",
              "ship-city                33\n",
              "ship-state               33\n",
              "ship-postal-code         33\n",
              "ship-country             33\n",
              "promotion-ids         49153\n",
              "B2B                       0\n",
              "fulfilled-by          89698\n",
              "Unnamed: 22           49050\n",
              "dtype: int64"
            ]
          },
          "metadata": {},
          "execution_count": 13
        }
      ]
    },
    {
      "cell_type": "code",
      "source": [
        "df.columns"
      ],
      "metadata": {
        "colab": {
          "base_uri": "https://localhost:8080/"
        },
        "id": "BGqbszjqcXfw",
        "outputId": "02f42ad4-238c-46d4-e775-da8401149ad8"
      },
      "execution_count": 14,
      "outputs": [
        {
          "output_type": "execute_result",
          "data": {
            "text/plain": [
              "Index(['index', 'Order ID', 'Date', 'Status', 'Fulfilment', 'Sales Channel ',\n",
              "       'ship-service-level', 'Style', 'SKU', 'Category', 'Size', 'ASIN',\n",
              "       'Courier Status', 'Qty', 'currency', 'Amount', 'ship-city',\n",
              "       'ship-state', 'ship-postal-code', 'ship-country', 'promotion-ids',\n",
              "       'B2B', 'fulfilled-by', 'Unnamed: 22'],\n",
              "      dtype='object')"
            ]
          },
          "metadata": {},
          "execution_count": 14
        }
      ]
    },
    {
      "cell_type": "code",
      "source": [
        "df['ship-state'].fillna(\"Not_Specified\", inplace=True)\n",
        "df['Courier Status'].fillna(\"Not_Specified\", inplace=True)\n",
        "df['ship-state'].fillna(\"Not_Specified\", inplace=True)\n",
        "df['Amount'].fillna(\"Not_Specified\", inplace=True)\n",
        "df.isna().sum()"
      ],
      "metadata": {
        "colab": {
          "base_uri": "https://localhost:8080/"
        },
        "id": "t1ZJpa2AHjbf",
        "outputId": "cd7febce-71b8-4d38-dfd0-18d19b299bc7"
      },
      "execution_count": 15,
      "outputs": [
        {
          "output_type": "execute_result",
          "data": {
            "text/plain": [
              "index                     0\n",
              "Order ID                  0\n",
              "Date                      0\n",
              "Status                    0\n",
              "Fulfilment                0\n",
              "Sales Channel             0\n",
              "ship-service-level        0\n",
              "Style                     0\n",
              "SKU                       0\n",
              "Category                  0\n",
              "Size                      0\n",
              "ASIN                      0\n",
              "Courier Status            0\n",
              "Qty                       0\n",
              "currency               7795\n",
              "Amount                    0\n",
              "ship-city                33\n",
              "ship-state                0\n",
              "ship-postal-code         33\n",
              "ship-country             33\n",
              "promotion-ids         49153\n",
              "B2B                       0\n",
              "fulfilled-by          89698\n",
              "Unnamed: 22           49050\n",
              "dtype: int64"
            ]
          },
          "metadata": {},
          "execution_count": 15
        }
      ]
    },
    {
      "cell_type": "code",
      "source": [
        "df.drop(columns='currency')"
      ],
      "metadata": {
        "colab": {
          "base_uri": "https://localhost:8080/",
          "height": 1000
        },
        "id": "R0M48kEJc62c",
        "outputId": "b817771b-144f-41ae-e04d-6db0f0e51c04"
      },
      "execution_count": 16,
      "outputs": [
        {
          "output_type": "execute_result",
          "data": {
            "text/plain": [
              "         index             Order ID      Date                        Status  \\\n",
              "0            0  405-8078784-5731545  04-30-22                     Cancelled   \n",
              "1            1  171-9198151-1101146  04-30-22  Shipped - Delivered to Buyer   \n",
              "2            2  404-0687676-7273146  04-30-22                       Shipped   \n",
              "3            3  403-9615377-8133951  04-30-22                     Cancelled   \n",
              "4            4  407-1069790-7240320  04-30-22                       Shipped   \n",
              "...        ...                  ...       ...                           ...   \n",
              "128970  128970  406-6001380-7673107  05-31-22                       Shipped   \n",
              "128971  128971  402-9551604-7544318  05-31-22                       Shipped   \n",
              "128972  128972  407-9547469-3152358  05-31-22                       Shipped   \n",
              "128973  128973  402-6184140-0545956  05-31-22                       Shipped   \n",
              "128974  128974  408-7436540-8728312  05-31-22                       Shipped   \n",
              "\n",
              "       Fulfilment Sales Channel  ship-service-level    Style              SKU  \\\n",
              "0        Merchant      Amazon.in           Standard   SET389   SET389-KR-NP-S   \n",
              "1        Merchant      Amazon.in           Standard  JNE3781  JNE3781-KR-XXXL   \n",
              "2          Amazon      Amazon.in          Expedited  JNE3371    JNE3371-KR-XL   \n",
              "3        Merchant      Amazon.in           Standard    J0341       J0341-DR-L   \n",
              "4          Amazon      Amazon.in          Expedited  JNE3671  JNE3671-TU-XXXL   \n",
              "...           ...            ...                ...      ...              ...   \n",
              "128970     Amazon      Amazon.in          Expedited  JNE3697    JNE3697-KR-XL   \n",
              "128971     Amazon      Amazon.in          Expedited   SET401   SET401-KR-NP-M   \n",
              "128972     Amazon      Amazon.in          Expedited    J0157     J0157-DR-XXL   \n",
              "128973     Amazon      Amazon.in          Expedited    J0012     J0012-SKD-XS   \n",
              "128974     Amazon      Amazon.in          Expedited    J0003      J0003-SET-S   \n",
              "\n",
              "             Category  ... Qty  Amount    ship-city    ship-state  \\\n",
              "0                 Set  ...   0  647.62       MUMBAI   MAHARASHTRA   \n",
              "1               kurta  ...   1   406.0    BENGALURU     KARNATAKA   \n",
              "2               kurta  ...   1   329.0  NAVI MUMBAI   MAHARASHTRA   \n",
              "3       Western Dress  ...   0  753.33   PUDUCHERRY    PUDUCHERRY   \n",
              "4                 Top  ...   1   574.0      CHENNAI    TAMIL NADU   \n",
              "...               ...  ...  ..     ...          ...           ...   \n",
              "128970          kurta  ...   1   517.0    HYDERABAD     TELANGANA   \n",
              "128971            Set  ...   1   999.0     GURUGRAM       HARYANA   \n",
              "128972  Western Dress  ...   1   690.0    HYDERABAD     TELANGANA   \n",
              "128973            Set  ...   1  1199.0        Halol       Gujarat   \n",
              "128974            Set  ...   1   696.0       Raipur  CHHATTISGARH   \n",
              "\n",
              "       ship-postal-code ship-country  \\\n",
              "0              400081.0           IN   \n",
              "1              560085.0           IN   \n",
              "2              410210.0           IN   \n",
              "3              605008.0           IN   \n",
              "4              600073.0           IN   \n",
              "...                 ...          ...   \n",
              "128970         500013.0           IN   \n",
              "128971         122004.0           IN   \n",
              "128972         500049.0           IN   \n",
              "128973         389350.0           IN   \n",
              "128974         492014.0           IN   \n",
              "\n",
              "                                            promotion-ids    B2B fulfilled-by  \\\n",
              "0                                                     NaN  False    Easy Ship   \n",
              "1       Amazon PLCC Free-Financing Universal Merchant ...  False    Easy Ship   \n",
              "2            IN Core Free Shipping 2015/04/08 23-48-5-108   True          NaN   \n",
              "3                                                     NaN  False    Easy Ship   \n",
              "4                                                     NaN  False          NaN   \n",
              "...                                                   ...    ...          ...   \n",
              "128970                                                NaN  False          NaN   \n",
              "128971       IN Core Free Shipping 2015/04/08 23-48-5-108  False          NaN   \n",
              "128972                                                NaN  False          NaN   \n",
              "128973       IN Core Free Shipping 2015/04/08 23-48-5-108  False          NaN   \n",
              "128974       IN Core Free Shipping 2015/04/08 23-48-5-108  False          NaN   \n",
              "\n",
              "       Unnamed: 22  \n",
              "0              NaN  \n",
              "1              NaN  \n",
              "2              NaN  \n",
              "3              NaN  \n",
              "4              NaN  \n",
              "...            ...  \n",
              "128970       False  \n",
              "128971       False  \n",
              "128972       False  \n",
              "128973       False  \n",
              "128974       False  \n",
              "\n",
              "[128975 rows x 23 columns]"
            ],
            "text/html": [
              "\n",
              "  <div id=\"df-6f187faa-3cc2-44a3-9136-000a35bf52ff\">\n",
              "    <div class=\"colab-df-container\">\n",
              "      <div>\n",
              "<style scoped>\n",
              "    .dataframe tbody tr th:only-of-type {\n",
              "        vertical-align: middle;\n",
              "    }\n",
              "\n",
              "    .dataframe tbody tr th {\n",
              "        vertical-align: top;\n",
              "    }\n",
              "\n",
              "    .dataframe thead th {\n",
              "        text-align: right;\n",
              "    }\n",
              "</style>\n",
              "<table border=\"1\" class=\"dataframe\">\n",
              "  <thead>\n",
              "    <tr style=\"text-align: right;\">\n",
              "      <th></th>\n",
              "      <th>index</th>\n",
              "      <th>Order ID</th>\n",
              "      <th>Date</th>\n",
              "      <th>Status</th>\n",
              "      <th>Fulfilment</th>\n",
              "      <th>Sales Channel</th>\n",
              "      <th>ship-service-level</th>\n",
              "      <th>Style</th>\n",
              "      <th>SKU</th>\n",
              "      <th>Category</th>\n",
              "      <th>...</th>\n",
              "      <th>Qty</th>\n",
              "      <th>Amount</th>\n",
              "      <th>ship-city</th>\n",
              "      <th>ship-state</th>\n",
              "      <th>ship-postal-code</th>\n",
              "      <th>ship-country</th>\n",
              "      <th>promotion-ids</th>\n",
              "      <th>B2B</th>\n",
              "      <th>fulfilled-by</th>\n",
              "      <th>Unnamed: 22</th>\n",
              "    </tr>\n",
              "  </thead>\n",
              "  <tbody>\n",
              "    <tr>\n",
              "      <th>0</th>\n",
              "      <td>0</td>\n",
              "      <td>405-8078784-5731545</td>\n",
              "      <td>04-30-22</td>\n",
              "      <td>Cancelled</td>\n",
              "      <td>Merchant</td>\n",
              "      <td>Amazon.in</td>\n",
              "      <td>Standard</td>\n",
              "      <td>SET389</td>\n",
              "      <td>SET389-KR-NP-S</td>\n",
              "      <td>Set</td>\n",
              "      <td>...</td>\n",
              "      <td>0</td>\n",
              "      <td>647.62</td>\n",
              "      <td>MUMBAI</td>\n",
              "      <td>MAHARASHTRA</td>\n",
              "      <td>400081.0</td>\n",
              "      <td>IN</td>\n",
              "      <td>NaN</td>\n",
              "      <td>False</td>\n",
              "      <td>Easy Ship</td>\n",
              "      <td>NaN</td>\n",
              "    </tr>\n",
              "    <tr>\n",
              "      <th>1</th>\n",
              "      <td>1</td>\n",
              "      <td>171-9198151-1101146</td>\n",
              "      <td>04-30-22</td>\n",
              "      <td>Shipped - Delivered to Buyer</td>\n",
              "      <td>Merchant</td>\n",
              "      <td>Amazon.in</td>\n",
              "      <td>Standard</td>\n",
              "      <td>JNE3781</td>\n",
              "      <td>JNE3781-KR-XXXL</td>\n",
              "      <td>kurta</td>\n",
              "      <td>...</td>\n",
              "      <td>1</td>\n",
              "      <td>406.0</td>\n",
              "      <td>BENGALURU</td>\n",
              "      <td>KARNATAKA</td>\n",
              "      <td>560085.0</td>\n",
              "      <td>IN</td>\n",
              "      <td>Amazon PLCC Free-Financing Universal Merchant ...</td>\n",
              "      <td>False</td>\n",
              "      <td>Easy Ship</td>\n",
              "      <td>NaN</td>\n",
              "    </tr>\n",
              "    <tr>\n",
              "      <th>2</th>\n",
              "      <td>2</td>\n",
              "      <td>404-0687676-7273146</td>\n",
              "      <td>04-30-22</td>\n",
              "      <td>Shipped</td>\n",
              "      <td>Amazon</td>\n",
              "      <td>Amazon.in</td>\n",
              "      <td>Expedited</td>\n",
              "      <td>JNE3371</td>\n",
              "      <td>JNE3371-KR-XL</td>\n",
              "      <td>kurta</td>\n",
              "      <td>...</td>\n",
              "      <td>1</td>\n",
              "      <td>329.0</td>\n",
              "      <td>NAVI MUMBAI</td>\n",
              "      <td>MAHARASHTRA</td>\n",
              "      <td>410210.0</td>\n",
              "      <td>IN</td>\n",
              "      <td>IN Core Free Shipping 2015/04/08 23-48-5-108</td>\n",
              "      <td>True</td>\n",
              "      <td>NaN</td>\n",
              "      <td>NaN</td>\n",
              "    </tr>\n",
              "    <tr>\n",
              "      <th>3</th>\n",
              "      <td>3</td>\n",
              "      <td>403-9615377-8133951</td>\n",
              "      <td>04-30-22</td>\n",
              "      <td>Cancelled</td>\n",
              "      <td>Merchant</td>\n",
              "      <td>Amazon.in</td>\n",
              "      <td>Standard</td>\n",
              "      <td>J0341</td>\n",
              "      <td>J0341-DR-L</td>\n",
              "      <td>Western Dress</td>\n",
              "      <td>...</td>\n",
              "      <td>0</td>\n",
              "      <td>753.33</td>\n",
              "      <td>PUDUCHERRY</td>\n",
              "      <td>PUDUCHERRY</td>\n",
              "      <td>605008.0</td>\n",
              "      <td>IN</td>\n",
              "      <td>NaN</td>\n",
              "      <td>False</td>\n",
              "      <td>Easy Ship</td>\n",
              "      <td>NaN</td>\n",
              "    </tr>\n",
              "    <tr>\n",
              "      <th>4</th>\n",
              "      <td>4</td>\n",
              "      <td>407-1069790-7240320</td>\n",
              "      <td>04-30-22</td>\n",
              "      <td>Shipped</td>\n",
              "      <td>Amazon</td>\n",
              "      <td>Amazon.in</td>\n",
              "      <td>Expedited</td>\n",
              "      <td>JNE3671</td>\n",
              "      <td>JNE3671-TU-XXXL</td>\n",
              "      <td>Top</td>\n",
              "      <td>...</td>\n",
              "      <td>1</td>\n",
              "      <td>574.0</td>\n",
              "      <td>CHENNAI</td>\n",
              "      <td>TAMIL NADU</td>\n",
              "      <td>600073.0</td>\n",
              "      <td>IN</td>\n",
              "      <td>NaN</td>\n",
              "      <td>False</td>\n",
              "      <td>NaN</td>\n",
              "      <td>NaN</td>\n",
              "    </tr>\n",
              "    <tr>\n",
              "      <th>...</th>\n",
              "      <td>...</td>\n",
              "      <td>...</td>\n",
              "      <td>...</td>\n",
              "      <td>...</td>\n",
              "      <td>...</td>\n",
              "      <td>...</td>\n",
              "      <td>...</td>\n",
              "      <td>...</td>\n",
              "      <td>...</td>\n",
              "      <td>...</td>\n",
              "      <td>...</td>\n",
              "      <td>...</td>\n",
              "      <td>...</td>\n",
              "      <td>...</td>\n",
              "      <td>...</td>\n",
              "      <td>...</td>\n",
              "      <td>...</td>\n",
              "      <td>...</td>\n",
              "      <td>...</td>\n",
              "      <td>...</td>\n",
              "      <td>...</td>\n",
              "    </tr>\n",
              "    <tr>\n",
              "      <th>128970</th>\n",
              "      <td>128970</td>\n",
              "      <td>406-6001380-7673107</td>\n",
              "      <td>05-31-22</td>\n",
              "      <td>Shipped</td>\n",
              "      <td>Amazon</td>\n",
              "      <td>Amazon.in</td>\n",
              "      <td>Expedited</td>\n",
              "      <td>JNE3697</td>\n",
              "      <td>JNE3697-KR-XL</td>\n",
              "      <td>kurta</td>\n",
              "      <td>...</td>\n",
              "      <td>1</td>\n",
              "      <td>517.0</td>\n",
              "      <td>HYDERABAD</td>\n",
              "      <td>TELANGANA</td>\n",
              "      <td>500013.0</td>\n",
              "      <td>IN</td>\n",
              "      <td>NaN</td>\n",
              "      <td>False</td>\n",
              "      <td>NaN</td>\n",
              "      <td>False</td>\n",
              "    </tr>\n",
              "    <tr>\n",
              "      <th>128971</th>\n",
              "      <td>128971</td>\n",
              "      <td>402-9551604-7544318</td>\n",
              "      <td>05-31-22</td>\n",
              "      <td>Shipped</td>\n",
              "      <td>Amazon</td>\n",
              "      <td>Amazon.in</td>\n",
              "      <td>Expedited</td>\n",
              "      <td>SET401</td>\n",
              "      <td>SET401-KR-NP-M</td>\n",
              "      <td>Set</td>\n",
              "      <td>...</td>\n",
              "      <td>1</td>\n",
              "      <td>999.0</td>\n",
              "      <td>GURUGRAM</td>\n",
              "      <td>HARYANA</td>\n",
              "      <td>122004.0</td>\n",
              "      <td>IN</td>\n",
              "      <td>IN Core Free Shipping 2015/04/08 23-48-5-108</td>\n",
              "      <td>False</td>\n",
              "      <td>NaN</td>\n",
              "      <td>False</td>\n",
              "    </tr>\n",
              "    <tr>\n",
              "      <th>128972</th>\n",
              "      <td>128972</td>\n",
              "      <td>407-9547469-3152358</td>\n",
              "      <td>05-31-22</td>\n",
              "      <td>Shipped</td>\n",
              "      <td>Amazon</td>\n",
              "      <td>Amazon.in</td>\n",
              "      <td>Expedited</td>\n",
              "      <td>J0157</td>\n",
              "      <td>J0157-DR-XXL</td>\n",
              "      <td>Western Dress</td>\n",
              "      <td>...</td>\n",
              "      <td>1</td>\n",
              "      <td>690.0</td>\n",
              "      <td>HYDERABAD</td>\n",
              "      <td>TELANGANA</td>\n",
              "      <td>500049.0</td>\n",
              "      <td>IN</td>\n",
              "      <td>NaN</td>\n",
              "      <td>False</td>\n",
              "      <td>NaN</td>\n",
              "      <td>False</td>\n",
              "    </tr>\n",
              "    <tr>\n",
              "      <th>128973</th>\n",
              "      <td>128973</td>\n",
              "      <td>402-6184140-0545956</td>\n",
              "      <td>05-31-22</td>\n",
              "      <td>Shipped</td>\n",
              "      <td>Amazon</td>\n",
              "      <td>Amazon.in</td>\n",
              "      <td>Expedited</td>\n",
              "      <td>J0012</td>\n",
              "      <td>J0012-SKD-XS</td>\n",
              "      <td>Set</td>\n",
              "      <td>...</td>\n",
              "      <td>1</td>\n",
              "      <td>1199.0</td>\n",
              "      <td>Halol</td>\n",
              "      <td>Gujarat</td>\n",
              "      <td>389350.0</td>\n",
              "      <td>IN</td>\n",
              "      <td>IN Core Free Shipping 2015/04/08 23-48-5-108</td>\n",
              "      <td>False</td>\n",
              "      <td>NaN</td>\n",
              "      <td>False</td>\n",
              "    </tr>\n",
              "    <tr>\n",
              "      <th>128974</th>\n",
              "      <td>128974</td>\n",
              "      <td>408-7436540-8728312</td>\n",
              "      <td>05-31-22</td>\n",
              "      <td>Shipped</td>\n",
              "      <td>Amazon</td>\n",
              "      <td>Amazon.in</td>\n",
              "      <td>Expedited</td>\n",
              "      <td>J0003</td>\n",
              "      <td>J0003-SET-S</td>\n",
              "      <td>Set</td>\n",
              "      <td>...</td>\n",
              "      <td>1</td>\n",
              "      <td>696.0</td>\n",
              "      <td>Raipur</td>\n",
              "      <td>CHHATTISGARH</td>\n",
              "      <td>492014.0</td>\n",
              "      <td>IN</td>\n",
              "      <td>IN Core Free Shipping 2015/04/08 23-48-5-108</td>\n",
              "      <td>False</td>\n",
              "      <td>NaN</td>\n",
              "      <td>False</td>\n",
              "    </tr>\n",
              "  </tbody>\n",
              "</table>\n",
              "<p>128975 rows × 23 columns</p>\n",
              "</div>\n",
              "      <button class=\"colab-df-convert\" onclick=\"convertToInteractive('df-6f187faa-3cc2-44a3-9136-000a35bf52ff')\"\n",
              "              title=\"Convert this dataframe to an interactive table.\"\n",
              "              style=\"display:none;\">\n",
              "        \n",
              "  <svg xmlns=\"http://www.w3.org/2000/svg\" height=\"24px\"viewBox=\"0 0 24 24\"\n",
              "       width=\"24px\">\n",
              "    <path d=\"M0 0h24v24H0V0z\" fill=\"none\"/>\n",
              "    <path d=\"M18.56 5.44l.94 2.06.94-2.06 2.06-.94-2.06-.94-.94-2.06-.94 2.06-2.06.94zm-11 1L8.5 8.5l.94-2.06 2.06-.94-2.06-.94L8.5 2.5l-.94 2.06-2.06.94zm10 10l.94 2.06.94-2.06 2.06-.94-2.06-.94-.94-2.06-.94 2.06-2.06.94z\"/><path d=\"M17.41 7.96l-1.37-1.37c-.4-.4-.92-.59-1.43-.59-.52 0-1.04.2-1.43.59L10.3 9.45l-7.72 7.72c-.78.78-.78 2.05 0 2.83L4 21.41c.39.39.9.59 1.41.59.51 0 1.02-.2 1.41-.59l7.78-7.78 2.81-2.81c.8-.78.8-2.07 0-2.86zM5.41 20L4 18.59l7.72-7.72 1.47 1.35L5.41 20z\"/>\n",
              "  </svg>\n",
              "      </button>\n",
              "      \n",
              "  <style>\n",
              "    .colab-df-container {\n",
              "      display:flex;\n",
              "      flex-wrap:wrap;\n",
              "      gap: 12px;\n",
              "    }\n",
              "\n",
              "    .colab-df-convert {\n",
              "      background-color: #E8F0FE;\n",
              "      border: none;\n",
              "      border-radius: 50%;\n",
              "      cursor: pointer;\n",
              "      display: none;\n",
              "      fill: #1967D2;\n",
              "      height: 32px;\n",
              "      padding: 0 0 0 0;\n",
              "      width: 32px;\n",
              "    }\n",
              "\n",
              "    .colab-df-convert:hover {\n",
              "      background-color: #E2EBFA;\n",
              "      box-shadow: 0px 1px 2px rgba(60, 64, 67, 0.3), 0px 1px 3px 1px rgba(60, 64, 67, 0.15);\n",
              "      fill: #174EA6;\n",
              "    }\n",
              "\n",
              "    [theme=dark] .colab-df-convert {\n",
              "      background-color: #3B4455;\n",
              "      fill: #D2E3FC;\n",
              "    }\n",
              "\n",
              "    [theme=dark] .colab-df-convert:hover {\n",
              "      background-color: #434B5C;\n",
              "      box-shadow: 0px 1px 3px 1px rgba(0, 0, 0, 0.15);\n",
              "      filter: drop-shadow(0px 1px 2px rgba(0, 0, 0, 0.3));\n",
              "      fill: #FFFFFF;\n",
              "    }\n",
              "  </style>\n",
              "\n",
              "      <script>\n",
              "        const buttonEl =\n",
              "          document.querySelector('#df-6f187faa-3cc2-44a3-9136-000a35bf52ff button.colab-df-convert');\n",
              "        buttonEl.style.display =\n",
              "          google.colab.kernel.accessAllowed ? 'block' : 'none';\n",
              "\n",
              "        async function convertToInteractive(key) {\n",
              "          const element = document.querySelector('#df-6f187faa-3cc2-44a3-9136-000a35bf52ff');\n",
              "          const dataTable =\n",
              "            await google.colab.kernel.invokeFunction('convertToInteractive',\n",
              "                                                     [key], {});\n",
              "          if (!dataTable) return;\n",
              "\n",
              "          const docLinkHtml = 'Like what you see? Visit the ' +\n",
              "            '<a target=\"_blank\" href=https://colab.research.google.com/notebooks/data_table.ipynb>data table notebook</a>'\n",
              "            + ' to learn more about interactive tables.';\n",
              "          element.innerHTML = '';\n",
              "          dataTable['output_type'] = 'display_data';\n",
              "          await google.colab.output.renderOutput(dataTable, element);\n",
              "          const docLink = document.createElement('div');\n",
              "          docLink.innerHTML = docLinkHtml;\n",
              "          element.appendChild(docLink);\n",
              "        }\n",
              "      </script>\n",
              "    </div>\n",
              "  </div>\n",
              "  "
            ]
          },
          "metadata": {},
          "execution_count": 16
        }
      ]
    },
    {
      "cell_type": "code",
      "source": [
        "df['Courier Status'].value_counts()\n"
      ],
      "metadata": {
        "colab": {
          "base_uri": "https://localhost:8080/"
        },
        "id": "hSHIYOoYdMBG",
        "outputId": "245214a3-61ff-4438-ebf1-202432c2543f"
      },
      "execution_count": 17,
      "outputs": [
        {
          "output_type": "execute_result",
          "data": {
            "text/plain": [
              "Shipped          109487\n",
              "Not_Specified      6872\n",
              "Unshipped          6681\n",
              "Cancelled          5935\n",
              "Name: Courier Status, dtype: int64"
            ]
          },
          "metadata": {},
          "execution_count": 17
        }
      ]
    },
    {
      "cell_type": "code",
      "source": [
        "df.duplicated().sum()"
      ],
      "metadata": {
        "colab": {
          "base_uri": "https://localhost:8080/"
        },
        "id": "kaOKVg_CxID2",
        "outputId": "be589143-1aff-4942-d332-fd279b6fd39e"
      },
      "execution_count": 18,
      "outputs": [
        {
          "output_type": "execute_result",
          "data": {
            "text/plain": [
              "0"
            ]
          },
          "metadata": {},
          "execution_count": 18
        }
      ]
    },
    {
      "cell_type": "code",
      "source": [
        "df['Courier Status'].value_counts()"
      ],
      "metadata": {
        "colab": {
          "base_uri": "https://localhost:8080/"
        },
        "id": "CW4OGWIyu5nh",
        "outputId": "63136ed5-91c1-45f4-cdc6-e35dc5aead8b"
      },
      "execution_count": 19,
      "outputs": [
        {
          "output_type": "execute_result",
          "data": {
            "text/plain": [
              "Shipped          109487\n",
              "Not_Specified      6872\n",
              "Unshipped          6681\n",
              "Cancelled          5935\n",
              "Name: Courier Status, dtype: int64"
            ]
          },
          "metadata": {},
          "execution_count": 19
        }
      ]
    },
    {
      "cell_type": "code",
      "source": [
        "df['Size'].value_counts()"
      ],
      "metadata": {
        "colab": {
          "base_uri": "https://localhost:8080/"
        },
        "id": "Gk3SGd9wxb8U",
        "outputId": "98657306-7d2d-4f9e-f447-88a3b85fe5bb"
      },
      "execution_count": 20,
      "outputs": [
        {
          "output_type": "execute_result",
          "data": {
            "text/plain": [
              "M       22711\n",
              "L       22132\n",
              "XL      20876\n",
              "XXL     18096\n",
              "S       17090\n",
              "3XL     14816\n",
              "XS      11161\n",
              "6XL       738\n",
              "5XL       550\n",
              "4XL       427\n",
              "Free      378\n",
              "Name: Size, dtype: int64"
            ]
          },
          "metadata": {},
          "execution_count": 20
        }
      ]
    },
    {
      "cell_type": "code",
      "source": [
        "set(df['promotion-ids'].sample(2))"
      ],
      "metadata": {
        "colab": {
          "base_uri": "https://localhost:8080/"
        },
        "id": "JFxiwgTlxwAE",
        "outputId": "84949213-fc25-4424-f6ca-93a7faed4a08"
      },
      "execution_count": 21,
      "outputs": [
        {
          "output_type": "execute_result",
          "data": {
            "text/plain": [
              "{nan}"
            ]
          },
          "metadata": {},
          "execution_count": 21
        }
      ]
    },
    {
      "cell_type": "code",
      "source": [
        "#To perform analysis on the shipping aspect of this dataset, we could trim our dataframe to have only the required columns\n",
        "df_ship = df.drop(columns = ['SKU','ship-postal-code','Size','promotion-ids','fulfilled-by','ASIN','Style','Unnamed: 22'], axis = 1 )"
      ],
      "metadata": {
        "id": "yOLjTlFazKN8"
      },
      "execution_count": 22,
      "outputs": []
    },
    {
      "cell_type": "code",
      "source": [
        "df_ship.columns"
      ],
      "metadata": {
        "colab": {
          "base_uri": "https://localhost:8080/"
        },
        "id": "X0tWxBHn1qTB",
        "outputId": "d946c6d9-40ae-4cad-b6b4-ebcc09672c25"
      },
      "execution_count": 23,
      "outputs": [
        {
          "output_type": "execute_result",
          "data": {
            "text/plain": [
              "Index(['index', 'Order ID', 'Date', 'Status', 'Fulfilment', 'Sales Channel ',\n",
              "       'ship-service-level', 'Category', 'Courier Status', 'Qty', 'currency',\n",
              "       'Amount', 'ship-city', 'ship-state', 'ship-country', 'B2B'],\n",
              "      dtype='object')"
            ]
          },
          "metadata": {},
          "execution_count": 23
        }
      ]
    },
    {
      "cell_type": "code",
      "source": [
        "pd.to_datetime(df_ship['Date'])"
      ],
      "metadata": {
        "colab": {
          "base_uri": "https://localhost:8080/"
        },
        "id": "pUZ85N6378Vp",
        "outputId": "10f12192-1369-4d54-d920-dbcf4c75c3ae"
      },
      "execution_count": 24,
      "outputs": [
        {
          "output_type": "execute_result",
          "data": {
            "text/plain": [
              "0        2022-04-30\n",
              "1        2022-04-30\n",
              "2        2022-04-30\n",
              "3        2022-04-30\n",
              "4        2022-04-30\n",
              "            ...    \n",
              "128970   2022-05-31\n",
              "128971   2022-05-31\n",
              "128972   2022-05-31\n",
              "128973   2022-05-31\n",
              "128974   2022-05-31\n",
              "Name: Date, Length: 128975, dtype: datetime64[ns]"
            ]
          },
          "metadata": {},
          "execution_count": 24
        }
      ]
    },
    {
      "cell_type": "code",
      "source": [
        "\n",
        "#description of objects\n",
        "df.describe(include = 'O')"
      ],
      "metadata": {
        "colab": {
          "base_uri": "https://localhost:8080/",
          "height": 343
        },
        "id": "LEbgFju88okZ",
        "outputId": "53a97d95-2997-4352-b45c-b388a87ec4d5"
      },
      "execution_count": 25,
      "outputs": [
        {
          "output_type": "execute_result",
          "data": {
            "text/plain": [
              "                   Order ID      Date   Status Fulfilment Sales Channel   \\\n",
              "count                128975    128975   128975     128975         128975   \n",
              "unique               120378        91       13          2              2   \n",
              "top     171-5057375-2831560  05-03-22  Shipped     Amazon      Amazon.in   \n",
              "freq                     12      2085    77804      89698         128851   \n",
              "\n",
              "       ship-service-level    Style           SKU Category    Size        ASIN  \\\n",
              "count              128975   128975        128975   128975  128975      128975   \n",
              "unique                  2     1377          7195        9      11        7190   \n",
              "top             Expedited  JNE3797  JNE3797-KR-L      Set       M  B09SDXFFQ1   \n",
              "freq                88615     4224           773    50284   22711         773   \n",
              "\n",
              "       Courier Status currency         Amount  ship-city   ship-state  \\\n",
              "count          128975   121180         128975     128942       128975   \n",
              "unique              4        1           1411       8955           70   \n",
              "top           Shipped      INR  Not_Specified  BENGALURU  MAHARASHTRA   \n",
              "freq           109487   121180           7795      11217        22260   \n",
              "\n",
              "       ship-country                                 promotion-ids  \\\n",
              "count        128942                                         79822   \n",
              "unique            1                                          5787   \n",
              "top              IN  IN Core Free Shipping 2015/04/08 23-48-5-108   \n",
              "freq         128942                                         46100   \n",
              "\n",
              "       fulfilled-by Unnamed: 22  \n",
              "count         39277       79925  \n",
              "unique            1           1  \n",
              "top       Easy Ship       False  \n",
              "freq          39277       79925  "
            ],
            "text/html": [
              "\n",
              "  <div id=\"df-05779515-f04f-4a34-bcd5-f01ecb7b7b36\">\n",
              "    <div class=\"colab-df-container\">\n",
              "      <div>\n",
              "<style scoped>\n",
              "    .dataframe tbody tr th:only-of-type {\n",
              "        vertical-align: middle;\n",
              "    }\n",
              "\n",
              "    .dataframe tbody tr th {\n",
              "        vertical-align: top;\n",
              "    }\n",
              "\n",
              "    .dataframe thead th {\n",
              "        text-align: right;\n",
              "    }\n",
              "</style>\n",
              "<table border=\"1\" class=\"dataframe\">\n",
              "  <thead>\n",
              "    <tr style=\"text-align: right;\">\n",
              "      <th></th>\n",
              "      <th>Order ID</th>\n",
              "      <th>Date</th>\n",
              "      <th>Status</th>\n",
              "      <th>Fulfilment</th>\n",
              "      <th>Sales Channel</th>\n",
              "      <th>ship-service-level</th>\n",
              "      <th>Style</th>\n",
              "      <th>SKU</th>\n",
              "      <th>Category</th>\n",
              "      <th>Size</th>\n",
              "      <th>ASIN</th>\n",
              "      <th>Courier Status</th>\n",
              "      <th>currency</th>\n",
              "      <th>Amount</th>\n",
              "      <th>ship-city</th>\n",
              "      <th>ship-state</th>\n",
              "      <th>ship-country</th>\n",
              "      <th>promotion-ids</th>\n",
              "      <th>fulfilled-by</th>\n",
              "      <th>Unnamed: 22</th>\n",
              "    </tr>\n",
              "  </thead>\n",
              "  <tbody>\n",
              "    <tr>\n",
              "      <th>count</th>\n",
              "      <td>128975</td>\n",
              "      <td>128975</td>\n",
              "      <td>128975</td>\n",
              "      <td>128975</td>\n",
              "      <td>128975</td>\n",
              "      <td>128975</td>\n",
              "      <td>128975</td>\n",
              "      <td>128975</td>\n",
              "      <td>128975</td>\n",
              "      <td>128975</td>\n",
              "      <td>128975</td>\n",
              "      <td>128975</td>\n",
              "      <td>121180</td>\n",
              "      <td>128975</td>\n",
              "      <td>128942</td>\n",
              "      <td>128975</td>\n",
              "      <td>128942</td>\n",
              "      <td>79822</td>\n",
              "      <td>39277</td>\n",
              "      <td>79925</td>\n",
              "    </tr>\n",
              "    <tr>\n",
              "      <th>unique</th>\n",
              "      <td>120378</td>\n",
              "      <td>91</td>\n",
              "      <td>13</td>\n",
              "      <td>2</td>\n",
              "      <td>2</td>\n",
              "      <td>2</td>\n",
              "      <td>1377</td>\n",
              "      <td>7195</td>\n",
              "      <td>9</td>\n",
              "      <td>11</td>\n",
              "      <td>7190</td>\n",
              "      <td>4</td>\n",
              "      <td>1</td>\n",
              "      <td>1411</td>\n",
              "      <td>8955</td>\n",
              "      <td>70</td>\n",
              "      <td>1</td>\n",
              "      <td>5787</td>\n",
              "      <td>1</td>\n",
              "      <td>1</td>\n",
              "    </tr>\n",
              "    <tr>\n",
              "      <th>top</th>\n",
              "      <td>171-5057375-2831560</td>\n",
              "      <td>05-03-22</td>\n",
              "      <td>Shipped</td>\n",
              "      <td>Amazon</td>\n",
              "      <td>Amazon.in</td>\n",
              "      <td>Expedited</td>\n",
              "      <td>JNE3797</td>\n",
              "      <td>JNE3797-KR-L</td>\n",
              "      <td>Set</td>\n",
              "      <td>M</td>\n",
              "      <td>B09SDXFFQ1</td>\n",
              "      <td>Shipped</td>\n",
              "      <td>INR</td>\n",
              "      <td>Not_Specified</td>\n",
              "      <td>BENGALURU</td>\n",
              "      <td>MAHARASHTRA</td>\n",
              "      <td>IN</td>\n",
              "      <td>IN Core Free Shipping 2015/04/08 23-48-5-108</td>\n",
              "      <td>Easy Ship</td>\n",
              "      <td>False</td>\n",
              "    </tr>\n",
              "    <tr>\n",
              "      <th>freq</th>\n",
              "      <td>12</td>\n",
              "      <td>2085</td>\n",
              "      <td>77804</td>\n",
              "      <td>89698</td>\n",
              "      <td>128851</td>\n",
              "      <td>88615</td>\n",
              "      <td>4224</td>\n",
              "      <td>773</td>\n",
              "      <td>50284</td>\n",
              "      <td>22711</td>\n",
              "      <td>773</td>\n",
              "      <td>109487</td>\n",
              "      <td>121180</td>\n",
              "      <td>7795</td>\n",
              "      <td>11217</td>\n",
              "      <td>22260</td>\n",
              "      <td>128942</td>\n",
              "      <td>46100</td>\n",
              "      <td>39277</td>\n",
              "      <td>79925</td>\n",
              "    </tr>\n",
              "  </tbody>\n",
              "</table>\n",
              "</div>\n",
              "      <button class=\"colab-df-convert\" onclick=\"convertToInteractive('df-05779515-f04f-4a34-bcd5-f01ecb7b7b36')\"\n",
              "              title=\"Convert this dataframe to an interactive table.\"\n",
              "              style=\"display:none;\">\n",
              "        \n",
              "  <svg xmlns=\"http://www.w3.org/2000/svg\" height=\"24px\"viewBox=\"0 0 24 24\"\n",
              "       width=\"24px\">\n",
              "    <path d=\"M0 0h24v24H0V0z\" fill=\"none\"/>\n",
              "    <path d=\"M18.56 5.44l.94 2.06.94-2.06 2.06-.94-2.06-.94-.94-2.06-.94 2.06-2.06.94zm-11 1L8.5 8.5l.94-2.06 2.06-.94-2.06-.94L8.5 2.5l-.94 2.06-2.06.94zm10 10l.94 2.06.94-2.06 2.06-.94-2.06-.94-.94-2.06-.94 2.06-2.06.94z\"/><path d=\"M17.41 7.96l-1.37-1.37c-.4-.4-.92-.59-1.43-.59-.52 0-1.04.2-1.43.59L10.3 9.45l-7.72 7.72c-.78.78-.78 2.05 0 2.83L4 21.41c.39.39.9.59 1.41.59.51 0 1.02-.2 1.41-.59l7.78-7.78 2.81-2.81c.8-.78.8-2.07 0-2.86zM5.41 20L4 18.59l7.72-7.72 1.47 1.35L5.41 20z\"/>\n",
              "  </svg>\n",
              "      </button>\n",
              "      \n",
              "  <style>\n",
              "    .colab-df-container {\n",
              "      display:flex;\n",
              "      flex-wrap:wrap;\n",
              "      gap: 12px;\n",
              "    }\n",
              "\n",
              "    .colab-df-convert {\n",
              "      background-color: #E8F0FE;\n",
              "      border: none;\n",
              "      border-radius: 50%;\n",
              "      cursor: pointer;\n",
              "      display: none;\n",
              "      fill: #1967D2;\n",
              "      height: 32px;\n",
              "      padding: 0 0 0 0;\n",
              "      width: 32px;\n",
              "    }\n",
              "\n",
              "    .colab-df-convert:hover {\n",
              "      background-color: #E2EBFA;\n",
              "      box-shadow: 0px 1px 2px rgba(60, 64, 67, 0.3), 0px 1px 3px 1px rgba(60, 64, 67, 0.15);\n",
              "      fill: #174EA6;\n",
              "    }\n",
              "\n",
              "    [theme=dark] .colab-df-convert {\n",
              "      background-color: #3B4455;\n",
              "      fill: #D2E3FC;\n",
              "    }\n",
              "\n",
              "    [theme=dark] .colab-df-convert:hover {\n",
              "      background-color: #434B5C;\n",
              "      box-shadow: 0px 1px 3px 1px rgba(0, 0, 0, 0.15);\n",
              "      filter: drop-shadow(0px 1px 2px rgba(0, 0, 0, 0.3));\n",
              "      fill: #FFFFFF;\n",
              "    }\n",
              "  </style>\n",
              "\n",
              "      <script>\n",
              "        const buttonEl =\n",
              "          document.querySelector('#df-05779515-f04f-4a34-bcd5-f01ecb7b7b36 button.colab-df-convert');\n",
              "        buttonEl.style.display =\n",
              "          google.colab.kernel.accessAllowed ? 'block' : 'none';\n",
              "\n",
              "        async function convertToInteractive(key) {\n",
              "          const element = document.querySelector('#df-05779515-f04f-4a34-bcd5-f01ecb7b7b36');\n",
              "          const dataTable =\n",
              "            await google.colab.kernel.invokeFunction('convertToInteractive',\n",
              "                                                     [key], {});\n",
              "          if (!dataTable) return;\n",
              "\n",
              "          const docLinkHtml = 'Like what you see? Visit the ' +\n",
              "            '<a target=\"_blank\" href=https://colab.research.google.com/notebooks/data_table.ipynb>data table notebook</a>'\n",
              "            + ' to learn more about interactive tables.';\n",
              "          element.innerHTML = '';\n",
              "          dataTable['output_type'] = 'display_data';\n",
              "          await google.colab.output.renderOutput(dataTable, element);\n",
              "          const docLink = document.createElement('div');\n",
              "          docLink.innerHTML = docLinkHtml;\n",
              "          element.appendChild(docLink);\n",
              "        }\n",
              "      </script>\n",
              "    </div>\n",
              "  </div>\n",
              "  "
            ]
          },
          "metadata": {},
          "execution_count": 25
        }
      ]
    },
    {
      "cell_type": "code",
      "source": [
        "#description of numerical data\n",
        "df.describe().T\n"
      ],
      "metadata": {
        "colab": {
          "base_uri": "https://localhost:8080/",
          "height": 144
        },
        "id": "KfqEBLv69mGN",
        "outputId": "8944c723-72c4-4f1e-ecff-c94f74a89eb8"
      },
      "execution_count": 26,
      "outputs": [
        {
          "output_type": "execute_result",
          "data": {
            "text/plain": [
              "                     count           mean            std       min       25%  \\\n",
              "index             128975.0   64487.000000   37232.019822       0.0   32243.5   \n",
              "Qty               128975.0       0.904431       0.313354       0.0       1.0   \n",
              "ship-postal-code  128942.0  463966.236509  191476.764941  110001.0  382421.0   \n",
              "\n",
              "                       50%       75%       max  \n",
              "index              64487.0   96730.5  128974.0  \n",
              "Qty                    1.0       1.0      15.0  \n",
              "ship-postal-code  500033.0  600024.0  989898.0  "
            ],
            "text/html": [
              "\n",
              "  <div id=\"df-3862cec3-a588-499b-b7c0-4d7d7496899f\">\n",
              "    <div class=\"colab-df-container\">\n",
              "      <div>\n",
              "<style scoped>\n",
              "    .dataframe tbody tr th:only-of-type {\n",
              "        vertical-align: middle;\n",
              "    }\n",
              "\n",
              "    .dataframe tbody tr th {\n",
              "        vertical-align: top;\n",
              "    }\n",
              "\n",
              "    .dataframe thead th {\n",
              "        text-align: right;\n",
              "    }\n",
              "</style>\n",
              "<table border=\"1\" class=\"dataframe\">\n",
              "  <thead>\n",
              "    <tr style=\"text-align: right;\">\n",
              "      <th></th>\n",
              "      <th>count</th>\n",
              "      <th>mean</th>\n",
              "      <th>std</th>\n",
              "      <th>min</th>\n",
              "      <th>25%</th>\n",
              "      <th>50%</th>\n",
              "      <th>75%</th>\n",
              "      <th>max</th>\n",
              "    </tr>\n",
              "  </thead>\n",
              "  <tbody>\n",
              "    <tr>\n",
              "      <th>index</th>\n",
              "      <td>128975.0</td>\n",
              "      <td>64487.000000</td>\n",
              "      <td>37232.019822</td>\n",
              "      <td>0.0</td>\n",
              "      <td>32243.5</td>\n",
              "      <td>64487.0</td>\n",
              "      <td>96730.5</td>\n",
              "      <td>128974.0</td>\n",
              "    </tr>\n",
              "    <tr>\n",
              "      <th>Qty</th>\n",
              "      <td>128975.0</td>\n",
              "      <td>0.904431</td>\n",
              "      <td>0.313354</td>\n",
              "      <td>0.0</td>\n",
              "      <td>1.0</td>\n",
              "      <td>1.0</td>\n",
              "      <td>1.0</td>\n",
              "      <td>15.0</td>\n",
              "    </tr>\n",
              "    <tr>\n",
              "      <th>ship-postal-code</th>\n",
              "      <td>128942.0</td>\n",
              "      <td>463966.236509</td>\n",
              "      <td>191476.764941</td>\n",
              "      <td>110001.0</td>\n",
              "      <td>382421.0</td>\n",
              "      <td>500033.0</td>\n",
              "      <td>600024.0</td>\n",
              "      <td>989898.0</td>\n",
              "    </tr>\n",
              "  </tbody>\n",
              "</table>\n",
              "</div>\n",
              "      <button class=\"colab-df-convert\" onclick=\"convertToInteractive('df-3862cec3-a588-499b-b7c0-4d7d7496899f')\"\n",
              "              title=\"Convert this dataframe to an interactive table.\"\n",
              "              style=\"display:none;\">\n",
              "        \n",
              "  <svg xmlns=\"http://www.w3.org/2000/svg\" height=\"24px\"viewBox=\"0 0 24 24\"\n",
              "       width=\"24px\">\n",
              "    <path d=\"M0 0h24v24H0V0z\" fill=\"none\"/>\n",
              "    <path d=\"M18.56 5.44l.94 2.06.94-2.06 2.06-.94-2.06-.94-.94-2.06-.94 2.06-2.06.94zm-11 1L8.5 8.5l.94-2.06 2.06-.94-2.06-.94L8.5 2.5l-.94 2.06-2.06.94zm10 10l.94 2.06.94-2.06 2.06-.94-2.06-.94-.94-2.06-.94 2.06-2.06.94z\"/><path d=\"M17.41 7.96l-1.37-1.37c-.4-.4-.92-.59-1.43-.59-.52 0-1.04.2-1.43.59L10.3 9.45l-7.72 7.72c-.78.78-.78 2.05 0 2.83L4 21.41c.39.39.9.59 1.41.59.51 0 1.02-.2 1.41-.59l7.78-7.78 2.81-2.81c.8-.78.8-2.07 0-2.86zM5.41 20L4 18.59l7.72-7.72 1.47 1.35L5.41 20z\"/>\n",
              "  </svg>\n",
              "      </button>\n",
              "      \n",
              "  <style>\n",
              "    .colab-df-container {\n",
              "      display:flex;\n",
              "      flex-wrap:wrap;\n",
              "      gap: 12px;\n",
              "    }\n",
              "\n",
              "    .colab-df-convert {\n",
              "      background-color: #E8F0FE;\n",
              "      border: none;\n",
              "      border-radius: 50%;\n",
              "      cursor: pointer;\n",
              "      display: none;\n",
              "      fill: #1967D2;\n",
              "      height: 32px;\n",
              "      padding: 0 0 0 0;\n",
              "      width: 32px;\n",
              "    }\n",
              "\n",
              "    .colab-df-convert:hover {\n",
              "      background-color: #E2EBFA;\n",
              "      box-shadow: 0px 1px 2px rgba(60, 64, 67, 0.3), 0px 1px 3px 1px rgba(60, 64, 67, 0.15);\n",
              "      fill: #174EA6;\n",
              "    }\n",
              "\n",
              "    [theme=dark] .colab-df-convert {\n",
              "      background-color: #3B4455;\n",
              "      fill: #D2E3FC;\n",
              "    }\n",
              "\n",
              "    [theme=dark] .colab-df-convert:hover {\n",
              "      background-color: #434B5C;\n",
              "      box-shadow: 0px 1px 3px 1px rgba(0, 0, 0, 0.15);\n",
              "      filter: drop-shadow(0px 1px 2px rgba(0, 0, 0, 0.3));\n",
              "      fill: #FFFFFF;\n",
              "    }\n",
              "  </style>\n",
              "\n",
              "      <script>\n",
              "        const buttonEl =\n",
              "          document.querySelector('#df-3862cec3-a588-499b-b7c0-4d7d7496899f button.colab-df-convert');\n",
              "        buttonEl.style.display =\n",
              "          google.colab.kernel.accessAllowed ? 'block' : 'none';\n",
              "\n",
              "        async function convertToInteractive(key) {\n",
              "          const element = document.querySelector('#df-3862cec3-a588-499b-b7c0-4d7d7496899f');\n",
              "          const dataTable =\n",
              "            await google.colab.kernel.invokeFunction('convertToInteractive',\n",
              "                                                     [key], {});\n",
              "          if (!dataTable) return;\n",
              "\n",
              "          const docLinkHtml = 'Like what you see? Visit the ' +\n",
              "            '<a target=\"_blank\" href=https://colab.research.google.com/notebooks/data_table.ipynb>data table notebook</a>'\n",
              "            + ' to learn more about interactive tables.';\n",
              "          element.innerHTML = '';\n",
              "          dataTable['output_type'] = 'display_data';\n",
              "          await google.colab.output.renderOutput(dataTable, element);\n",
              "          const docLink = document.createElement('div');\n",
              "          docLink.innerHTML = docLinkHtml;\n",
              "          element.appendChild(docLink);\n",
              "        }\n",
              "      </script>\n",
              "    </div>\n",
              "  </div>\n",
              "  "
            ]
          },
          "metadata": {},
          "execution_count": 26
        }
      ]
    },
    {
      "cell_type": "code",
      "source": [
        "print(df['ship-state'].unique())\n",
        "#from the unique variables, it shows that the ship-state column should be cleaned further because of capitalization differences in categories like 'Goa'"
      ],
      "metadata": {
        "colab": {
          "base_uri": "https://localhost:8080/"
        },
        "id": "J9oFn5PG98x-",
        "outputId": "b48fb2c6-54ab-4518-a412-7d63ce5c5669"
      },
      "execution_count": 27,
      "outputs": [
        {
          "output_type": "stream",
          "name": "stdout",
          "text": [
            "['MAHARASHTRA' 'KARNATAKA' 'PUDUCHERRY' 'TAMIL NADU' 'UTTAR PRADESH'\n",
            " 'CHANDIGARH' 'TELANGANA' 'ANDHRA PRADESH' 'RAJASTHAN' 'DELHI' 'HARYANA'\n",
            " 'ASSAM' 'JHARKHAND' 'CHHATTISGARH' 'ODISHA' 'KERALA' 'MADHYA PRADESH'\n",
            " 'WEST BENGAL' 'NAGALAND' 'Gujarat' 'UTTARAKHAND' 'BIHAR'\n",
            " 'JAMMU & KASHMIR' 'PUNJAB' 'HIMACHAL PRADESH' 'ARUNACHAL PRADESH'\n",
            " 'MANIPUR' 'Goa' 'MEGHALAYA' 'GOA' 'TRIPURA' 'LADAKH' 'DADRA AND NAGAR'\n",
            " 'SIKKIM' 'Delhi' 'Not_Specified' 'ANDAMAN & NICOBAR ' 'Punjab'\n",
            " 'Rajshthan' 'Manipur' 'rajasthan' 'Odisha' 'NL' 'Bihar' 'MIZORAM'\n",
            " 'punjab' 'New Delhi' 'Rajasthan' 'Punjab/Mohali/Zirakpur' 'Puducherry'\n",
            " 'delhi' 'RJ' 'Chandigarh' 'orissa' 'LAKSHADWEEP' 'goa' 'PB' 'APO'\n",
            " 'Arunachal Pradesh' 'AR' 'Pondicherry' 'Sikkim' 'Arunachal pradesh'\n",
            " 'Nagaland' 'bihar' 'Mizoram' 'rajsthan' 'Orissa' 'Rajsthan' 'Meghalaya']\n"
          ]
        }
      ]
    },
    {
      "cell_type": "code",
      "source": [
        "df.loc[df['ship-state'].isin(['GOA','goa']),'ship-state'] = 'Goa'\n",
        "df.loc[df['ship-state'].isin(['PUNJAB','Punjab/Mohali/Zirakpur','PB','punjab']),'ship-state'] = 'Punjab'\n",
        "df.loc[df['ship-state'].isin(['Rajasthan','rajasthan', 'rajsthan','Rajshthan','Rajsthan','RAJASTHAN',]),'ship-state'] = 'Rajasthan'\n",
        "df.loc[df['ship-state'].isin(['NL','NAGALAND']),'ship-state'] = 'Nagaland'\n",
        "df.loc[df['ship-state'].isin(['Puducherry']),'ship-state'] = 'Pondicherry'\n",
        "df.loc[df['ship-state'].isin(['orissa','Odisha','ODISHA']),'ship-state'] = 'Orissa'\n",
        "df.loc[df['ship-state'].isin(['SIKKIM']),'ship-state'] = 'Sikkim'\n",
        "df.loc[df['ship-state'].isin(['bihar']),'ship-state'] = 'Bihar'\n",
        "df.loc[df['ship-state'].isin(['CHANDIGARH']),'ship-state'] = 'Chandigarh'\n",
        "df.loc[df['ship-state'].isin(['delhi','New Delhi','DELHI']),'ship-state'] = 'Delhi'\n"
      ],
      "metadata": {
        "id": "C8JWLeFI_nC2"
      },
      "execution_count": 28,
      "outputs": []
    },
    {
      "cell_type": "code",
      "source": [
        "df['Sales Channel '].value_counts()"
      ],
      "metadata": {
        "colab": {
          "base_uri": "https://localhost:8080/"
        },
        "id": "bsn9dKJFBrTX",
        "outputId": "c632577f-b39a-4abc-9024-130272917ae8"
      },
      "execution_count": 29,
      "outputs": [
        {
          "output_type": "execute_result",
          "data": {
            "text/plain": [
              "Amazon.in     128851\n",
              "Non-Amazon       124\n",
              "Name: Sales Channel , dtype: int64"
            ]
          },
          "metadata": {},
          "execution_count": 29
        }
      ]
    },
    {
      "cell_type": "code",
      "source": [],
      "metadata": {
        "id": "UFNrulP2LQHI"
      },
      "execution_count": 29,
      "outputs": []
    },
    {
      "cell_type": "markdown",
      "source": [
        "\"\"\"Possible Questions to be asked:\n",
        "1. What are the counts of categories of the items?\n",
        "2. Status of products (shipped, Unshipped, Delivered to buyer ...)\n",
        "\n",
        "\n",
        "We could also categorize amounts for analysis\n",
        "\n"
      ],
      "metadata": {
        "id": "Gfey5CNNCL1r"
      }
    },
    {
      "cell_type": "code",
      "source": [
        "# Using cut() - create category ranges and names\n",
        "\n",
        "#Create bins\n",
        "\n",
        "bins = [0, 100, 200, 300, 400, 500, 600, 700, 800, 900, 1000, np.inf]\n",
        "group_names = ['0-100','100-200', '200-300','300-400','400-500','500-600','600-700','700-800','800-900','900-1000', '1000 Above']\n"
      ],
      "metadata": {
        "id": "FPQvI5RXITHS"
      },
      "execution_count": 30,
      "outputs": []
    }
  ]
}